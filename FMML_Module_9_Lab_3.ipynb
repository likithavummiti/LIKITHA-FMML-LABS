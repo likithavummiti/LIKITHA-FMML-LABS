{
  "nbformat": 4,
  "nbformat_minor": 0,
  "metadata": {
    "colab": {
      "provenance": [],
      "include_colab_link": true
    },
    "kernelspec": {
      "name": "python3",
      "display_name": "Python 3"
    },
    "language_info": {
      "name": "python"
    }
  },
  "cells": [
    {
      "cell_type": "markdown",
      "metadata": {
        "id": "view-in-github",
        "colab_type": "text"
      },
      "source": [
        "<a href=\"https://colab.research.google.com/github/likithavummiti/LIKITHA-FMML-LABS/blob/main/FMML_Module_9_Lab_3.ipynb\" target=\"_parent\"><img src=\"https://colab.research.google.com/assets/colab-badge.svg\" alt=\"Open In Colab\"/></a>"
      ]
    },
    {
      "cell_type": "markdown",
      "source": [
        "# Module 9: Convolutional Neural Networks\n",
        "## **Lab 3**\n",
        "### Module coordinator: Kushagra Agarwal"
      ],
      "metadata": {
        "id": "kCpbL40ggQf1"
      }
    },
    {
      "cell_type": "markdown",
      "source": [
        "## 1. Understanding Convolutions"
      ],
      "metadata": {
        "id": "0hAW8ptqVeyP"
      }
    },
    {
      "cell_type": "markdown",
      "source": [
        "<img src=\"https://miro.medium.com/max/464/0*e-SMFTzO8r7skkpc\" width=650px/>"
      ],
      "metadata": {
        "id": "q6wfvhccKxWx"
      }
    },
    {
      "cell_type": "code",
      "execution_count": 1,
      "metadata": {
        "id": "yZD5S7IQgHbU"
      },
      "outputs": [],
      "source": [
        "import cv2\n",
        "import numpy as np\n",
        "import matplotlib.pyplot as plt"
      ]
    },
    {
      "cell_type": "code",
      "source": [
        "# Importing some pytorch packages\n",
        "import torch\n",
        "from torch.nn import Conv2d"
      ],
      "metadata": {
        "id": "BDE4WBHalreb"
      },
      "execution_count": 2,
      "outputs": []
    },
    {
      "cell_type": "markdown",
      "source": [
        "Central to CNNs, a convolution operation is a linear element-wise multiplication operation between a small filter/kernel and same-sized patch from the image. We move this filter over the image like a sliding window from top left to bottom right. For each point on the image, a value is calculated based on the filter using a convolution operation. These filters can do simplest task like checking if there is a vertical line in the image or complicated task like detecting a human eye in the image.\n",
        "\n",
        "Let's look at the convolution formula:\n",
        "\n",
        "Convolution between image\n",
        "$f(x, y)$ and kernel $k(x, y)$ is\n",
        "$$f(x,y) * k(x,y) = \\sum \\limits _{i=0} ^{W-1} \\sum \\limits _{j=0} ^{H-1} f(i, j) k(x − i, y − j)$$\n",
        "\n",
        "where $W$ and $H$ are the the width and height of the image.\n",
        "\n",
        "The code demonstrates the convolution operation of a 2D matrix (image) with various filters"
      ],
      "metadata": {
        "id": "hbpRXyTpVv7u"
      }
    },
    {
      "cell_type": "markdown",
      "source": [
        "<img src=\"https://www.researchgate.net/profile/Chaim-Baskin/publication/318849314/figure/fig1/AS:614287726870532@1523469015098/Image-convolution-with-an-input-image-of-size-7-7-and-a-filter-kernel-of-size-3-3.png\" alt=\"Convolution\" width=650px height=280px/>"
      ],
      "metadata": {
        "id": "amI6DTS0Ksvo"
      }
    },
    {
      "cell_type": "code",
      "source": [
        "# 2D 3x3 binary image with vertical edge\n",
        "image1 = np.array([[1,1,0], [1,1,0], [1,1,0]])\n",
        "\n",
        "# 2D 3x3 binary image with horizontal edge\n",
        "image2 = np.array([[0,0,0], [0,0,0], [1,1,1]])\n",
        "\n",
        "# On plotting the images\n",
        "plt.imshow(image1, cmap='gray', extent=[0, 3, 3, 0])\n",
        "plt.show()\n",
        "plt.imshow(image2, cmap='gray', extent=[0, 3, 3, 0])\n",
        "plt.show()"
      ],
      "metadata": {
        "colab": {
          "base_uri": "https://localhost:8080/",
          "height": 853
        },
        "id": "IalqupPPkDil",
        "outputId": "3c170a01-bc4e-4850-a3ff-de8e6575a2d5"
      },
      "execution_count": 3,
      "outputs": [
        {
          "output_type": "display_data",
          "data": {
            "text/plain": [
              "<Figure size 640x480 with 1 Axes>"
            ],
            "image/png": "[encoded data removed]"
          },
          "metadata": {}
        },
        {
          "output_type": "display_data",
          "data": {
            "text/plain": [
              "<Figure size 640x480 with 1 Axes>"
            ],
            "image/png": "[encoded data removed]"
          },
          "metadata": {}
        }
      ]
    },
    {
      "cell_type": "code",
      "source": [
        "# Vertical Line filter\n",
        "filter = np.array([[1,0,-1],\n",
        "                   [1,0,-1],\n",
        "                   [1,0,-1]])\n",
        "\n",
        "# Applying filter to first image\n",
        "output = np.sum(np.multiply(image1, filter))\n",
        "print('Output from first image: ', output)\n",
        "\n",
        "# Applying filter to second image\n",
        "output = np.sum(np.multiply(image2, filter))\n",
        "print('Output from second image: ', output)"
      ],
      "metadata": {
        "colab": {
          "base_uri": "https://localhost:8080/"
        },
        "id": "g42INjCaketK",
        "outputId": "6811701f-9753-4640-94a1-3dd9c526f435"
      },
      "execution_count": 4,
      "outputs": [
        {
          "output_type": "stream",
          "name": "stdout",
          "text": [
            "Output from first image:  3\n",
            "Output from second image:  0\n"
          ]
        }
      ]
    },
    {
      "cell_type": "code",
      "source": [
        "# Horizontal edge filter\n",
        "filter = np.array([[-1,-1,-1],\n",
        "                   [ 0, 0, 0],\n",
        "                   [ 1, 1, 1]])\n",
        "\n",
        "output = np.sum(np.multiply(image1, filter))\n",
        "print('Output from first image: ', output)\n",
        "\n",
        "output = np.sum(np.multiply(image2, filter))\n",
        "print('Output from second image: ', output)"
      ],
      "metadata": {
        "colab": {
          "base_uri": "https://localhost:8080/"
        },
        "id": "Tba3ySYUk2df",
        "outputId": "136594ec-eb9b-4c45-f2de-c038e9eed4c4"
      },
      "execution_count": 5,
      "outputs": [
        {
          "output_type": "stream",
          "name": "stdout",
          "text": [
            "Output from first image:  0\n",
            "Output from second image:  3\n"
          ]
        }
      ]
    },
    {
      "cell_type": "markdown",
      "source": [
        "Non-zero output suggests that there is a vertical edge present in the first image and not present in the second image. Similarly, horizontal edge is detected in second."
      ],
      "metadata": {
        "id": "BmYcPhDgk_in"
      }
    },
    {
      "cell_type": "markdown",
      "source": [
        "Let's define a function to use convolution layer from Pytorch and use our own kernel to detect edges in image"
      ],
      "metadata": {
        "id": "UNdrDtAKqyj2"
      }
    },
    {
      "cell_type": "code",
      "source": [
        "def apply_conv(image, kernel, padding=0, stride=1):\n",
        "\n",
        "  #--------IMAGE PREPROCESSING-------\n",
        "  image = torch.from_numpy(image)\n",
        "  # Pytorch requires input to convolution in (N,C,H,W), where N = batch size and C=#channels in input\n",
        "  input = image.view((1,1,image.shape[0], image.shape[1]))\n",
        "\n",
        "  # --------------KERNEL-------------\n",
        "  kernel = torch.from_numpy(kernel.astype(np.float32))\n",
        "\n",
        "  # Pytorch requires kernel of shape (N,C,H,W), where N = batch size and C=#channels in input\n",
        "  kernel = kernel.view((1,1,kernel.shape[0], kernel.shape[1]))\n",
        "\n",
        "  # ---------CONVOLUTION LAYER from Pytorch--------\n",
        "  conv = Conv2d(in_channels=1, out_channels=1, kernel_size=kernel.shape, padding=padding, stride=stride)\n",
        "\n",
        "  # Set the kernel weights in the convolution layer\n",
        "  conv.weight = torch.nn.Parameter(kernel)\n",
        "\n",
        "  # ---------APPLY CONVOLUTION--------\n",
        "  output = conv(input.float())\n",
        "  output_img = output.data.numpy()  # Tensor to back in numpy\n",
        "  output_img = output_img.reshape((-1, output_img.shape[-1])) # Reshape to 2D image\n",
        "\n",
        "  return output_img"
      ],
      "metadata": {
        "id": "G5fRJziBk3YB"
      },
      "execution_count": 6,
      "outputs": []
    },
    {
      "cell_type": "code",
      "source": [
        "import numpy as np\n",
        "import torch\n",
        "\n",
        "def apply_conv(image, kernel, padding=0, stride=1):\n",
        "    # Check if the image is None or not\n",
        "    if image is None:\n",
        "        raise ValueError(\"Input image is None. Please provide a valid image.\")\n",
        "\n",
        "    #--------IMAGE PREPROCESSING-------\n",
        "    image = torch.from_numpy(image)\n",
        "    # Pytorch requires input to convolution in (N,C,H,W), where N = batch size and C=#channels in input\n",
        "    input = image.view((1,1,image.shape[0], image.shape[1]))\n",
        "\n",
        "    #--------KERNEL PREPROCESSING--------\n",
        "    # Pytorch requires kernel in (C_out, C_in, H, W)\n",
        "    kernel = torch.from_numpy(kernel)\n",
        "    kernel = kernel.view(1,1,kernel.shape[0], kernel.shape[1])\n",
        "\n",
        "    # Convolution\n",
        "    conv = torch.nn.Conv2d(1, 1, kernel_size=kernel.shape[2:], padding=padding, stride=stride)\n",
        "    conv.weight.data = kernel.float()\n",
        "    out = conv(input.float())\n",
        "    return out.detach().numpy().squeeze()\n",
        "\n",
        "# Example usage:\n",
        "image = np.array([[1, 2, 3],\n",
        "                  [4, 5, 6],\n",
        "                  [7, 8, 9]])\n",
        "\n",
        "filter = np.array([[1, 0, -1],\n",
        "                   [1, 0, -1],\n",
        "                   [1, 0, -1]])\n",
        "\n",
        "out1 = apply_conv(image, filter, padding=0, stride=1)\n",
        "print(out1)\n"
      ],
      "metadata": {
        "id": "1HPV6fFZloyc",
        "outputId": "ffec8bb4-0543-4e12-e4e0-be4075cedca9",
        "colab": {
          "base_uri": "https://localhost:8080/"
        }
      },
      "execution_count": 9,
      "outputs": [
        {
          "output_type": "stream",
          "name": "stdout",
          "text": [
            "-5.888481\n"
          ]
        }
      ]
    },
    {
      "cell_type": "code",
      "source": [
        "import matplotlib.pyplot as plt\n",
        "\n",
        "# Check if out1 is empty or not\n",
        "if out1.size == 0:\n",
        "    print(\"Output array is empty. Cannot visualize.\")\n",
        "else:\n",
        "    # Check the shape of out1\n",
        "    if len(out1.shape) == 4:\n",
        "        # Calculate the mean across channels to convert the output to grayscale\n",
        "        out1_gray = out1.mean(axis=1)  # Assuming the channel dimension is axis 1\n",
        "\n",
        "        # Plot the grayscale output\n",
        "        plt.imshow(out1_gray[0], cmap='gray')  # Assuming out1 has a batch dimension of size 1\n",
        "        plt.title('Horizontal edge')\n",
        "        plt.show()\n",
        "    else:\n",
        "        print(\"Output array has unexpected shape. Cannot visualize.\")\n"
      ],
      "metadata": {
        "id": "xgwXwbUKnmEr",
        "colab": {
          "base_uri": "https://localhost:8080/"
        },
        "outputId": "ff9c42c4-baae-4753-be6b-e0c81576b01e"
      },
      "execution_count": 12,
      "outputs": [
        {
          "output_type": "stream",
          "name": "stdout",
          "text": [
            "Output array has unexpected shape. Cannot visualize.\n"
          ]
        }
      ]
    },
    {
      "cell_type": "markdown",
      "source": [
        "## Pooling Layers\n",
        "\n",
        "Pooling layers are used to reduce the dimensions of the feature maps. Thus, it reduces the number of parameters to learn and the amount of computation performed in the network. The pooling layer summarises the features present in a region of the feature map generated by a convolution layer.\n",
        "\n",
        "1) Max Pooling:\n",
        "\n",
        "<img src='https://media.geeksforgeeks.org/wp-content/uploads/20190721025744/Screenshot-2019-07-21-at-2.57.13-AM.png' height=150px/>\n",
        "\n",
        "2) Average Pooling:\n",
        "\n",
        "<img src='https://media.geeksforgeeks.org/wp-content/uploads/20190721030705/Screenshot-2019-07-21-at-3.05.56-AM.png' height=150px/>"
      ],
      "metadata": {
        "id": "FpA0yEk1BgRb"
      }
    },
    {
      "cell_type": "markdown",
      "source": [
        "## Softmax layer/activation\n",
        "Recall that logistic regression produces a decimal between 0 and 1.0. For example, a logistic regression output of 0.8 from an email classifier suggests an 80% chance of an email being spam and a 20% chance of it being not spam. Clearly, the sum of the probabilities of an email being either spam or not spam is 1.0.\n",
        "\n",
        "Softmax extends this idea into a multi-class world. That is, Softmax assigns decimal probabilities to each class in a multi-class problem. Those decimal probabilities must add up to 1.0. This additional constraint helps training converge more quickly than it otherwise would.\n",
        "Softmax is implemented through a neural network layer just before the output layer. The Softmax layer must have the same number of nodes as the output layer.\n",
        "\n",
        "<img src='https://miro.medium.com/max/1400/1*ReYpdIZ3ZSAPb2W8cJpkBg.jpeg' height=170px />"
      ],
      "metadata": {
        "id": "eu3QIU7AEO_x"
      }
    },
    {
      "cell_type": "markdown",
      "source": [
        "## Learning to train a CNN network"
      ],
      "metadata": {
        "id": "P6grxC0TKKSF"
      }
    },
    {
      "cell_type": "code",
      "source": [
        "# Import packages\n",
        "import torch\n",
        "import torchvision\n",
        "import torchvision.transforms as transforms\n",
        "import torch.nn as nn\n",
        "import torch.nn.functional as F\n",
        "import torch.optim as optim\n",
        "import matplotlib.pyplot as plt\n",
        "import numpy as np"
      ],
      "metadata": {
        "id": "qlO-uZUHnn_-"
      },
      "execution_count": 13,
      "outputs": []
    },
    {
      "cell_type": "code",
      "source": [
        "#  Images returned from torchvision dataset classes is in range [0,1]\n",
        "# We transform them to tensors and normalize them to range [-1,1] using 'Normalize' transform\n",
        "\n",
        "transform = transforms.Compose(\n",
        "    [transforms.ToTensor(),\n",
        "     transforms.Normalize((0.5, 0.5, 0.5), (0.5, 0.5, 0.5))])\n",
        "\n",
        "batch_size = 128\n",
        "\n",
        "trainset = torchvision.datasets.CIFAR10(root='./data', train=True,\n",
        "                                        download=True, transform=transform)\n",
        "trainloader = torch.utils.data.DataLoader(trainset, batch_size=batch_size,\n",
        "                                          shuffle=True, num_workers=2)\n",
        "\n",
        "testset = torchvision.datasets.CIFAR10(root='./data', train=False,\n",
        "                                       download=True, transform=transform)\n",
        "testloader = torch.utils.data.DataLoader(testset, batch_size=batch_size,\n",
        "                                         shuffle=False, num_workers=2)\n",
        "\n",
        "# Classes in CIFAR10\n",
        "classes = ('plane', 'car', 'bird', 'cat',\n",
        "           'deer', 'dog', 'frog', 'horse', 'ship', 'truck')"
      ],
      "metadata": {
        "id": "NnezCUbwGqzd",
        "colab": {
          "base_uri": "https://localhost:8080/"
        },
        "outputId": "7643f1e0-7e1e-4dd7-d6b6-2a1c985155ed"
      },
      "execution_count": 14,
      "outputs": [
        {
          "output_type": "stream",
          "name": "stdout",
          "text": [
            "Downloading https://www.cs.toronto.edu/~kriz/cifar-10-python.tar.gz to ./data/cifar-10-python.tar.gz\n"
          ]
        },
        {
          "output_type": "stream",
          "name": "stderr",
          "text": [
            "100%|██████████| 170498071/170498071 [00:03<00:00, 43339235.23it/s]\n"
          ]
        },
        {
          "output_type": "stream",
          "name": "stdout",
          "text": [
            "Extracting ./data/cifar-10-python.tar.gz to ./data\n",
            "Files already downloaded and verified\n"
          ]
        }
      ]
    },
    {
      "cell_type": "code",
      "source": [
        "print('Training data shape : ', trainset.data.shape, len(trainset.targets))\n",
        "print('Testing data shape : ', testset.data.shape, len(testset.targets))\n",
        "\n",
        "# Find the unique numbers from the train labels\n",
        "nClasses = len(classes)\n",
        "print('Total number of outputs : ', nClasses)\n",
        "print('Output classes : ', classes)"
      ],
      "metadata": {
        "id": "e2M57DhHGupn",
        "colab": {
          "base_uri": "https://localhost:8080/"
        },
        "outputId": "1046eada-c634-4282-cdf6-2d02d17579d2"
      },
      "execution_count": 15,
      "outputs": [
        {
          "output_type": "stream",
          "name": "stdout",
          "text": [
            "Training data shape :  (50000, 32, 32, 3) 50000\n",
            "Testing data shape :  (10000, 32, 32, 3) 10000\n",
            "Total number of outputs :  10\n",
            "Output classes :  ('plane', 'car', 'bird', 'cat', 'deer', 'dog', 'frog', 'horse', 'ship', 'truck')\n"
          ]
        }
      ]
    },
    {
      "cell_type": "code",
      "source": [
        "def train(num_epochs, model, train_loader, loss_func, optimizer):\n",
        "\n",
        "  # Training mode\n",
        "  model.train()\n",
        "\n",
        "  train_losses = []\n",
        "  train_acc = []\n",
        "\n",
        "  # Train the model\n",
        "  for epoch in range(num_epochs):\n",
        "    running_loss = 0\n",
        "    running_acc = 0\n",
        "    for i, (images, labels) in enumerate(train_loader):\n",
        "\n",
        "      # clear gradients for this training step\n",
        "      optimizer.zero_grad()\n",
        "\n",
        "      # Forward pass\n",
        "      output = model(images)\n",
        "\n",
        "      # Calculate loss\n",
        "      loss = loss_func(output, labels)\n",
        "\n",
        "      # Backpropagation, compute gradients\n",
        "      loss.backward()\n",
        "\n",
        "      # Apply gradients\n",
        "      optimizer.step()\n",
        "\n",
        "      # Running loss\n",
        "      running_loss += loss.item()\n",
        "\n",
        "      # indices of max probabilities\n",
        "      _, preds = torch.max(output, dim=1)\n",
        "\n",
        "      # Calculate number of correct predictions\n",
        "      correct = (preds.float() == labels).sum()\n",
        "      running_acc += correct\n",
        "\n",
        "      # Average loss and acc values\n",
        "      epoch_loss = running_loss / len(train_loader.dataset)\n",
        "      epoch_acc = running_acc / len(train_loader.dataset)\n",
        "\n",
        "    train_losses.append(epoch_loss)\n",
        "    train_acc.append(epoch_acc)\n",
        "    print ('Epoch {}/{}, Loss: {:.4f}, Accuracy: {:.4f}'.format(epoch + 1, num_epochs, epoch_loss, epoch_acc*100))\n",
        "\n",
        "  return train_losses, train_acc"
      ],
      "metadata": {
        "id": "_haw697lHCZs"
      },
      "execution_count": 16,
      "outputs": []
    },
    {
      "cell_type": "code",
      "source": [
        "def test_model(model, testloader):\n",
        "  correct = 0\n",
        "  total = 0\n",
        "  # Deactivate autograd engine (don't compute grads since we're not training)\n",
        "  with torch.no_grad():\n",
        "    for data in testloader:\n",
        "        images, labels = data\n",
        "        # Calculate outputs by running images through the network\n",
        "        outputs = model(images)\n",
        "        # The class with the highest value is what we choose as prediction\n",
        "        _, predicted = torch.max(outputs.data, 1)\n",
        "        total += labels.size(0)\n",
        "        correct += (predicted == labels).sum().item()\n",
        "\n",
        "  print('Accuracy of the network: %d %%' % (\n",
        "      100 * correct / total))"
      ],
      "metadata": {
        "id": "x1Wi6vW7IHcR"
      },
      "execution_count": 17,
      "outputs": []
    },
    {
      "cell_type": "code",
      "source": [
        "# CNN with 2 CONV layers and 3 FC layers\n",
        "class Net(nn.Module):\n",
        "    def __init__(self):\n",
        "        super().__init__()\n",
        "        self.conv1 = nn.Conv2d(3, 16, 3)\n",
        "        self.pool = nn.MaxPool2d(2, 2)\n",
        "        self.conv2 = nn.Conv2d(16, 32, 5)\n",
        "        self.fc1 = nn.Linear(32 * 5 * 5, 512)\n",
        "        self.fc2 = nn.Linear(512, 128)\n",
        "        # output layer 10 classes\n",
        "        self.fc3 = nn.Linear(128, 10)\n",
        "\n",
        "    def forward(self, x):\n",
        "        x = self.pool(F.relu(self.conv1(x)))\n",
        "        x = self.pool(F.relu(self.conv2(x)))\n",
        "        # flatten all dimensions except batch\n",
        "        x = torch.flatten(x, 1)\n",
        "        x = F.relu(self.fc1(x))\n",
        "        x = F.relu(self.fc2(x))\n",
        "        x = self.fc3(x)\n",
        "        return x"
      ],
      "metadata": {
        "id": "RgxbRadcHIms"
      },
      "execution_count": 18,
      "outputs": []
    },
    {
      "cell_type": "code",
      "source": [
        "model = Net()\n",
        "print(model)"
      ],
      "metadata": {
        "id": "02meBxVOHLNL",
        "colab": {
          "base_uri": "https://localhost:8080/"
        },
        "outputId": "849bbea2-b279-4c09-96db-31f02c076a1b"
      },
      "execution_count": 19,
      "outputs": [
        {
          "output_type": "stream",
          "name": "stdout",
          "text": [
            "Net(\n",
            "  (conv1): Conv2d(3, 16, kernel_size=(3, 3), stride=(1, 1))\n",
            "  (pool): MaxPool2d(kernel_size=2, stride=2, padding=0, dilation=1, ceil_mode=False)\n",
            "  (conv2): Conv2d(16, 32, kernel_size=(5, 5), stride=(1, 1))\n",
            "  (fc1): Linear(in_features=800, out_features=512, bias=True)\n",
            "  (fc2): Linear(in_features=512, out_features=128, bias=True)\n",
            "  (fc3): Linear(in_features=128, out_features=10, bias=True)\n",
            ")\n"
          ]
        }
      ]
    },
    {
      "cell_type": "code",
      "source": [
        "# Cross Entropy loss for multi-class classification\n",
        "criterion = nn.CrossEntropyLoss()"
      ],
      "metadata": {
        "id": "lfKHypeYHNHO"
      },
      "execution_count": 20,
      "outputs": []
    },
    {
      "cell_type": "code",
      "source": [
        "# SGD optimizer with momentum\n",
        "optimizer = optim.SGD(model.parameters(), lr=0.05, momentum=0.9)"
      ],
      "metadata": {
        "id": "MuDnJL28HPKP"
      },
      "execution_count": 21,
      "outputs": []
    },
    {
      "cell_type": "code",
      "source": [
        "num_epochs = 5  # iterations\n",
        "train_losses, train_acc = train(num_epochs, model, trainloader, criterion, optimizer)"
      ],
      "metadata": {
        "id": "AgKhwMrtHRCn",
        "colab": {
          "base_uri": "https://localhost:8080/"
        },
        "outputId": "e2067bbf-dad4-468d-d5c3-7ef8cf433d8e"
      },
      "execution_count": 22,
      "outputs": [
        {
          "metadata": {
            "tags": null
          },
          "name": "stderr",
          "output_type": "stream",
          "text": [
            "/usr/lib/python3.10/multiprocessing/popen_fork.py:66: RuntimeWarning: os.fork() was called. os.fork() is incompatible with multithreaded code, and JAX is multithreaded, so this will likely lead to a deadlock.\n",
            "  self.pid = os.fork()\n",
            "/usr/lib/python3.10/multiprocessing/popen_fork.py:66: RuntimeWarning: os.fork() was called. os.fork() is incompatible with multithreaded code, and JAX is multithreaded, so this will likely lead to a deadlock.\n",
            "  self.pid = os.fork()\n"
          ]
        },
        {
          "output_type": "stream",
          "name": "stdout",
          "text": [
            "Epoch 1/5, Loss: 0.0132, Accuracy: 38.1660\n",
            "Epoch 2/5, Loss: 0.0095, Accuracy: 56.9540\n",
            "Epoch 3/5, Loss: 0.0078, Accuracy: 64.8240\n",
            "Epoch 4/5, Loss: 0.0067, Accuracy: 69.8940\n",
            "Epoch 5/5, Loss: 0.0059, Accuracy: 73.6440\n"
          ]
        }
      ]
    },
    {
      "cell_type": "code",
      "source": [
        "fig = plt.figure(figsize=(10,4))\n",
        "ax = fig.add_subplot(1,2, 1)\n",
        "ax.plot(np.arange(1,len(train_losses)+1),train_losses)\n",
        "plt.xlabel('Training loss')\n",
        "plt.ylabel('Epochs')\n",
        "ax.set_title('Loss vs Epochs')\n",
        "ax = fig.add_subplot(1,2, 2)\n",
        "ax.plot(np.arange(1,len(train_acc)+1),train_acc)\n",
        "plt.xlabel('Training accuracy')\n",
        "plt.ylabel('Epochs')\n",
        "ax.set_title('Accuracy vs Epochs')\n",
        "plt.show()"
      ],
      "metadata": {
        "id": "tM2wHKGuHToB",
        "colab": {
          "base_uri": "https://localhost:8080/",
          "height": 410
        },
        "outputId": "a1347ae7-f22c-41c6-ffd1-f85643ed56b3"
      },
      "execution_count": 23,
      "outputs": [
        {
          "output_type": "display_data",
          "data": {
            "text/plain": [
              "<Figure size 1000x400 with 2 Axes>"
            ],
            "image/png": "[encoded data removed]"
          },
          "metadata": {}
        }
      ]
    },
    {
      "cell_type": "code",
      "source": [
        "# Accuracy on test data after training\n",
        "test_model(model, testloader)"
      ],
      "metadata": {
        "id": "3sHK9hhmI-VY"
      },
      "execution_count": null,
      "outputs": []
    },
    {
      "cell_type": "markdown",
      "source": [
        "## Questions\n",
        "1) List some reasons why we should prefer CNN over ANN for image classification?\n",
        "\n",
        "2) Try improving the CNN performance further by tuning the hyperparameters(epochs, optimizer, LR etc). Report the improved test accuracy.\n",
        "\n",
        "3) What happens if you reduce the number of convolution layers to only 1?\n",
        "\n",
        "4) Why didn't we use the Softmax activation in the last layer of CNN?\n"
      ],
      "metadata": {
        "id": "RBQeCEB6REnH"
      }
    },
    {
      "cell_type": "markdown",
      "source": [
        "# 1.Convolutional Neural Networks (CNNs) are preferred over Artificial Neural Networks (ANNs) for image classification tasks due to several reasons:\n",
        "\n",
        "Hierarchical Feature Learning: CNNs are designed to automatically learn hierarchical representations of features from images. They consist of multiple layers such as convolutional layers, pooling layers, and fully connected layers, which learn increasingly abstract features from raw pixel values. This hierarchical feature learning enables CNNs to capture local patterns (edges, textures) as well as global structures (objects, scenes) in images.\n",
        "Translation Invariance: CNNs are inherently translation invariant due to the use of convolutional filters. The convolution operation allows the network to detect features at different spatial locations within the image. This property makes CNNs robust to small variations in object position, rotation, and scale, which are common in real-world images.\n",
        "Parameter Sharing: CNNs exploit parameter sharing to reduce the number of learnable parameters. In convolutional layers, the same set of weights (filters) is applied across different spatial locations of the input image. This sharing of parameters helps in learning local patterns efficiently and makes CNNs more parameter-efficient compared to fully connected networks.\n",
        "Sparse Connectivity: CNNs have sparse connectivity between layers. In convolutional layers, each neuron is connected only to a small local region of the input volume, determined by the receptive field of the convolutional filter. This sparse connectivity reduces the computational cost and memory requirements of the network while still capturing spatial dependencies effectively.\n",
        "Local Receptive Fields: CNNs use local receptive fields to process spatial information. Convolutional filters scan the input image in a local neighborhood, capturing spatial patterns such as edges, corners, and textures. This local processing helps CNNs focus on relevant features while ignoring irrelevant background information.\n",
        "Effective Parameterization: CNN architectures are designed to leverage the inherent structure of images. By exploiting spatial locality and parameter sharing, CNNs can effectively represent complex functions with relatively few parameters. This makes them well-suited for image classification tasks where the input data has spatial correlations and high-dimensional structure.\n",
        "Pretrained Models: Pretrained CNN models, such as those trained on large-scale image datasets like ImageNet, are readily available. These pretrained models can be fine-tuned on specific image classification tasks with limited labeled data, leading to faster convergence and improved performance."
      ],
      "metadata": {
        "id": "2eaX4EFKZRrM"
      }
    },
    {
      "cell_type": "markdown",
      "source": [
        "2.To improve the performance of a Convolutional Neural Network (CNN) for image classification, we can experiment with various hyperparameters such as the number of epochs, optimizer, learning rate, batch size, network architecture, etc. Here's a step-by-step guide to tuning these hyperparameters and reporting the improved test accuracy:\n",
        "\n",
        "Data Preprocessing: Ensure that the data is properly preprocessed, including normalization, data augmentation, and appropriate data splitting into training, validation, and test sets.\n",
        "Define the CNN Architecture: Define the CNN architecture, including the number of convolutional layers, pooling layers, fully connected layers, activation functions, dropout layers, etc.\n",
        "Hyperparameter Tuning: Experiment with various hyperparameters to find the optimal combination that improves the performance of the CNN. Some hyperparameters to tune include:\n",
        "Number of epochs: Increase or decrease the number of epochs to find the optimal training duration without overfitting.\n",
        "Optimizer: Try different optimizers such as SGD, Adam, RMSprop, etc., and tune their learning rates.\n",
        "Learning rate: Tune the learning rate of the optimizer to find the optimal rate for faster convergence without overshooting.\n",
        "Batch size: Experiment with different batch sizes to find the optimal balance between computational efficiency and model performance.\n",
        "Network architecture: Try different CNN architectures, including varying the number of layers, filter sizes, and kernel sizes.\n",
        "Regularization techniques: Experiment with dropout, weight decay, batch normalization, etc., to prevent overfitting.\n",
        "Data augmentation: Apply various data augmentation techniques such as rotation, translation, scaling, flipping, etc., to increase the diversity of the training data.\n",
        "Early stopping: Use early stopping to prevent overfitting by monitoring the validation loss and stopping training when it starts to increase.\n",
        "Train the CNN: Train the CNN using the training data and validate it using the validation data. Monitor the training and validation accuracy and loss to assess the model's performance during training.\n",
        "Evaluate on Test Set: Once the training is complete, evaluate the trained CNN on the test set to report the final test accuracy.\n",
        "Iterate: Iterate over the above steps, adjusting the hyperparameters and architecture based on the performance observed on the validation set, until satisfactory performance is achieved."
      ],
      "metadata": {
        "id": "r1eqXEqtaW-6"
      }
    },
    {
      "cell_type": "markdown",
      "source": [
        "3.Reducing the number of convolutional layers to only 1 in a Convolutional Neural Network (CNN) can have several implications on the network's performance and its ability to learn complex features from the input images. Here's what happens when you reduce the number of convolutional layers to 1:\n",
        "\n",
        "Decreased Feature Learning Capacity: With only one convolutional layer, the network's capacity to learn hierarchical and complex features from the input images is significantly reduced. Convolutional layers are responsible for detecting local patterns such as edges, textures, and simple shapes. Having only one layer limits the network's ability to capture diverse and abstract features from the input.\n",
        "Limited Feature Hierarchies: CNNs with multiple convolutional layers are capable of learning hierarchical representations of features, where lower layers capture low-level features (e.g., edges) and higher layers capture high-level features (e.g., object parts, objects). With only one convolutional layer, the network lacks the depth required to learn such hierarchical representations, leading to less discriminative features.\n",
        "Increased Sensitivity to Overfitting: A shallow CNN with only one convolutional layer is more prone to overfitting, especially when dealing with complex datasets with a large number of classes or high-dimensional input images. The limited capacity to learn diverse features may result in the network memorizing the training data rather than generalizing well to unseen data.\n",
        "Reduced Model Expressiveness: CNNs with multiple convolutional layers can capture a wide range of spatial relationships and patterns present in the input images. By reducing the number of convolutional layers to 1, the model's expressiveness is limited, and it may struggle to capture complex structures and variations in the input data.\n",
        "Lower Classification Accuracy: Overall, reducing the number of convolutional layers to only 1 is likely to result in lower classification accuracy compared to deeper CNN architectures with multiple convolutional layers. The network may struggle to learn meaningful representations of the input data, leading to suboptimal performance on image classification tasks."
      ],
      "metadata": {
        "id": "afxawtbLamWP"
      }
    },
    {
      "cell_type": "markdown",
      "source": [
        "4.In the context of image classification tasks with Convolutional Neural Networks (CNNs), the softmax activation function is typically used in the last layer when the network is used for multi-class classification. The softmax function normalizes the output scores of the network into a probability distribution over multiple classes, making it suitable for classification tasks where each input belongs to one of several mutually exclusive classes.\n",
        "\n",
        "However, in some cases, the softmax activation function may not be explicitly used in the last layer of a CNN. Here are a few reasons why this might be the case:\n",
        "\n",
        "Loss Function Compatibility: In many CNN architectures, especially when using popular deep learning frameworks like PyTorch or TensorFlow, the loss function used for training the network includes softmax activation implicitly. For example, in multi-class classification tasks, the categorical cross-entropy loss function is commonly used, which internally applies the softmax function to the network's output logits before computing the loss.\n",
        "Stability and Numerical Precision: Applying the softmax activation function explicitly in the last layer of the network can sometimes lead to numerical instability, especially when dealing with deep networks and large output logits. By omitting the softmax activation in the last layer and directly using the logits as outputs, numerical stability can be improved during training and inference.\n",
        "Flexibility in Post-processing: Omitting the softmax activation in the last layer gives flexibility in post-processing the network's outputs. For example, during inference, if probabilities are not needed or if the focus is on ranking predictions rather than obtaining calibrated probabilities, the raw logits can be used directly without applying softmax.\n",
        "Specialized Architectures: In some specialized architectures or tasks, the network's output may not require softmax normalization. For example, in Siamese networks for similarity learning or in some regression tasks, the network may directly output continuous values without requiring softmax normalization."
      ],
      "metadata": {
        "id": "_FS1ChENayXM"
      }
    },
    {
      "cell_type": "markdown",
      "source": [],
      "metadata": {
        "id": "oeX5kaFya1eZ"
      }
    },
    {
      "cell_type": "markdown",
      "source": [],
      "metadata": {
        "id": "JD5HNMzNaoo6"
      }
    },
    {
      "cell_type": "markdown",
      "source": [],
      "metadata": {
        "id": "uLnS96D2aZys"
      }
    },
    {
      "cell_type": "markdown",
      "source": [],
      "metadata": {
        "id": "idoA568yZY5M"
      }
    }
  ]
}